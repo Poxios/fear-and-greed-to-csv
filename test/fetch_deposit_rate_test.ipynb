{
 "cells": [
  {
   "cell_type": "code",
   "execution_count": 17,
   "metadata": {},
   "outputs": [
    {
     "name": "stdout",
     "output_type": "stream",
     "text": [
      "Loading\n",
      "Loading stopped\n",
      "대명상호저축은행 6.15%\n"
     ]
    }
   ],
   "source": [
    "from selenium.webdriver.common.desired_capabilities import DesiredCapabilities\n",
    "from selenium import webdriver\n",
    "from selenium.webdriver.common.by import By\n",
    "from time import sleep\n",
    "\n",
    "options = webdriver.ChromeOptions()\n",
    "options.add_argument('headless')\n",
    "options.add_argument('window-size=1920x1080')\n",
    "options.add_argument(\"disable-gpu\")\n",
    "options.add_argument('log-level=3')\n",
    "\n",
    "c = DesiredCapabilities.CHROME\n",
    "# To bypass page loading\n",
    "c[\"pageLoadStrategy\"] = \"eager\"\n",
    "\n",
    "driver = webdriver.Chrome(\n",
    "    'chromedriver', options=options, desired_capabilities=c)\n",
    "\n",
    "print('Loading')\n",
    "driver.get('https://finlife.fss.or.kr/deposit/selectDeposit.do')\n",
    "sleep(1)\n",
    "print('Loading stopped')\n",
    "# click '복리'\n",
    "driver.find_element(\n",
    "    By.XPATH, '/html/body/div[2]/section[1]/div[2]/div[1]/div[3]/ul/li[3]/button').click()\n",
    "\n",
    "# click search\n",
    "driver.find_element(\n",
    "    By.XPATH, '/html/body/div[2]/section[1]/div[2]/div[1]/button').click()\n",
    "\n",
    "sleep(2)\n",
    "\n",
    "highest_deposit_center = driver.find_element(\n",
    "    By.XPATH, '/html/body/div[2]/section[1]/div[2]/div[2]/div[1]/div[4]/div[2]/table/tbody/tr[1]/td[2]').text\n",
    "highest_deposit_rate = driver.find_element(\n",
    "    By.XPATH, '/html/body/div[2]/section[1]/div[2]/div[2]/div[1]/div[4]/div[2]/table/tbody/tr[1]/td[4]').text\n",
    "\n",
    "print(highest_deposit_center, highest_deposit_rate)\n",
    "driver.quit()\n"
   ]
  }
 ],
 "metadata": {
  "kernelspec": {
   "display_name": "Python 3.10.6 ('.venv': venv)",
   "language": "python",
   "name": "python3"
  },
  "language_info": {
   "codemirror_mode": {
    "name": "ipython",
    "version": 3
   },
   "file_extension": ".py",
   "mimetype": "text/x-python",
   "name": "python",
   "nbconvert_exporter": "python",
   "pygments_lexer": "ipython3",
   "version": "3.10.6"
  },
  "orig_nbformat": 4,
  "vscode": {
   "interpreter": {
    "hash": "50b349ff5b90131bf704e9bcedf3a3261ea40b7a00bbec6841bbd391072f5e32"
   }
  }
 },
 "nbformat": 4,
 "nbformat_minor": 2
}
