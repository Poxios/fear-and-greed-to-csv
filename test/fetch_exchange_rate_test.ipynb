{
 "cells": [
  {
   "cell_type": "code",
   "execution_count": 8,
   "metadata": {},
   "outputs": [
    {
     "name": "stdout",
     "output_type": "stream",
     "text": [
      "1,321.40원 [9.60 하락]\n"
     ]
    }
   ],
   "source": [
    "import requests\n",
    "from bs4 import BeautifulSoup as bs\n",
    "\n",
    "page = requests.get(\"https://finance.naver.com/marketindex/\")\n",
    "soup = bs(page.text, \"html.parser\")\n",
    "\n",
    "exchange_value = soup.select(\n",
    "    '#exchangeList > li.on > a.head.usd > div > span.value')[0].get_text()\n",
    "changed_value = soup.select('#exchangeList > li.on > a.head.usd > div > span.change')[0].get_text()\n",
    "changed_prefix = soup.select('#exchangeList > li.on > a.head.usd > div > span.blind')[0].get_text()\n",
    "print(f'{exchange_value}원 [{changed_value.strip()} {changed_prefix}]')\n"
   ]
  },
  {
   "cell_type": "code",
   "execution_count": 17,
   "metadata": {},
   "outputs": [
    {
     "name": "stdout",
     "output_type": "stream",
     "text": [
      "2022-11-25 14:02:30.842480\n"
     ]
    }
   ],
   "source": [
    "from datetime import datetime as dt, timedelta\n",
    "print(dt.now())\n",
    "\n"
   ]
  }
 ],
 "metadata": {
  "kernelspec": {
   "display_name": "Python 3.10.6 ('.venv': venv)",
   "language": "python",
   "name": "python3"
  },
  "language_info": {
   "codemirror_mode": {
    "name": "ipython",
    "version": 3
   },
   "file_extension": ".py",
   "mimetype": "text/x-python",
   "name": "python",
   "nbconvert_exporter": "python",
   "pygments_lexer": "ipython3",
   "version": "3.10.6"
  },
  "orig_nbformat": 4,
  "vscode": {
   "interpreter": {
    "hash": "50b349ff5b90131bf704e9bcedf3a3261ea40b7a00bbec6841bbd391072f5e32"
   }
  }
 },
 "nbformat": 4,
 "nbformat_minor": 2
}
