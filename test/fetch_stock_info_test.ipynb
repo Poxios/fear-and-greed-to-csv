{
 "cells": [
  {
   "cell_type": "code",
   "execution_count": 2,
   "metadata": {},
   "outputs": [],
   "source": [
    "# import talib\n",
    "import yfinance as yf\n",
    "import pandas_datareader as pdr\n",
    "from datetime import datetime"
   ]
  },
  {
   "cell_type": "code",
   "execution_count": 8,
   "metadata": {},
   "outputs": [
    {
     "ename": "AttributeError",
     "evalue": "'DataFrame' object has no attribute 'history_metadata'",
     "output_type": "error",
     "traceback": [
      "\u001b[0;31m---------------------------------------------------------------------------\u001b[0m",
      "\u001b[0;31mAttributeError\u001b[0m                            Traceback (most recent call last)",
      "\u001b[1;32m/Users/cyh/cyh/programming/finance-telegram-bot/test/fetch_stock_info_test.ipynb Cell 2\u001b[0m line \u001b[0;36m4\n\u001b[1;32m      <a href='vscode-notebook-cell:/Users/cyh/cyh/programming/finance-telegram-bot/test/fetch_stock_info_test.ipynb#W1sZmlsZQ%3D%3D?line=1'>2</a>\u001b[0m target \u001b[39m=\u001b[39m yf\u001b[39m.\u001b[39mTicker(\u001b[39m'\u001b[39m\u001b[39mQQQ\u001b[39m\u001b[39m'\u001b[39m)\n\u001b[1;32m      <a href='vscode-notebook-cell:/Users/cyh/cyh/programming/finance-telegram-bot/test/fetch_stock_info_test.ipynb#W1sZmlsZQ%3D%3D?line=2'>3</a>\u001b[0m hist \u001b[39m=\u001b[39m target\u001b[39m.\u001b[39mhistory(period\u001b[39m=\u001b[39m\u001b[39m'\u001b[39m\u001b[39m1mo\u001b[39m\u001b[39m'\u001b[39m)\n\u001b[0;32m----> <a href='vscode-notebook-cell:/Users/cyh/cyh/programming/finance-telegram-bot/test/fetch_stock_info_test.ipynb#W1sZmlsZQ%3D%3D?line=3'>4</a>\u001b[0m hist\u001b[39m.\u001b[39;49mhistory_metadata\n\u001b[1;32m      <a href='vscode-notebook-cell:/Users/cyh/cyh/programming/finance-telegram-bot/test/fetch_stock_info_test.ipynb#W1sZmlsZQ%3D%3D?line=5'>6</a>\u001b[0m \u001b[39m# target\u001b[39;00m\n\u001b[1;32m      <a href='vscode-notebook-cell:/Users/cyh/cyh/programming/finance-telegram-bot/test/fetch_stock_info_test.ipynb#W1sZmlsZQ%3D%3D?line=6'>7</a>\u001b[0m \u001b[39m# stock_close_data = data['Close']\u001b[39;00m\n\u001b[1;32m      <a href='vscode-notebook-cell:/Users/cyh/cyh/programming/finance-telegram-bot/test/fetch_stock_info_test.ipynb#W1sZmlsZQ%3D%3D?line=7'>8</a>\u001b[0m \u001b[39m# rsi = talib.RSI(stock_close_data)\u001b[39;00m\n",
      "File \u001b[0;32m~/cyh/programming/finance-telegram-bot/venv/lib/python3.9/site-packages/pandas/core/generic.py:5902\u001b[0m, in \u001b[0;36mNDFrame.__getattr__\u001b[0;34m(self, name)\u001b[0m\n\u001b[1;32m   5895\u001b[0m \u001b[39mif\u001b[39;00m (\n\u001b[1;32m   5896\u001b[0m     name \u001b[39mnot\u001b[39;00m \u001b[39min\u001b[39;00m \u001b[39mself\u001b[39m\u001b[39m.\u001b[39m_internal_names_set\n\u001b[1;32m   5897\u001b[0m     \u001b[39mand\u001b[39;00m name \u001b[39mnot\u001b[39;00m \u001b[39min\u001b[39;00m \u001b[39mself\u001b[39m\u001b[39m.\u001b[39m_metadata\n\u001b[1;32m   5898\u001b[0m     \u001b[39mand\u001b[39;00m name \u001b[39mnot\u001b[39;00m \u001b[39min\u001b[39;00m \u001b[39mself\u001b[39m\u001b[39m.\u001b[39m_accessors\n\u001b[1;32m   5899\u001b[0m     \u001b[39mand\u001b[39;00m \u001b[39mself\u001b[39m\u001b[39m.\u001b[39m_info_axis\u001b[39m.\u001b[39m_can_hold_identifiers_and_holds_name(name)\n\u001b[1;32m   5900\u001b[0m ):\n\u001b[1;32m   5901\u001b[0m     \u001b[39mreturn\u001b[39;00m \u001b[39mself\u001b[39m[name]\n\u001b[0;32m-> 5902\u001b[0m \u001b[39mreturn\u001b[39;00m \u001b[39mobject\u001b[39;49m\u001b[39m.\u001b[39;49m\u001b[39m__getattribute__\u001b[39;49m(\u001b[39mself\u001b[39;49m, name)\n",
      "\u001b[0;31mAttributeError\u001b[0m: 'DataFrame' object has no attribute 'history_metadata'"
     ]
    }
   ],
   "source": [
    "# data = yf.download('QQQ', start='2022-04-11',history)\n",
    "target = yf.Ticker('QQQ')\n",
    "hist = target.history(period='1mo')\n",
    "hist.\n",
    "\n",
    "# target\n",
    "# stock_close_data = data['Close']\n",
    "# rsi = talib.RSI(stock_close_data)\n"
   ]
  },
  {
   "cell_type": "code",
   "execution_count": 109,
   "metadata": {},
   "outputs": [
    {
     "name": "stdout",
     "output_type": "stream",
     "text": [
      "🧨287.96 (+1.84%) [RSI 58.98] (30~70)\n"
     ]
    }
   ],
   "source": [
    "last_date = stock_close_data.index[-1].date()\n",
    "last_close_value = stock_close_data[-1]\n",
    "prev_close_value = stock_close_data[-2]\n",
    "\n",
    "# Icon\n",
    "icon_prefix = '🧨'if last_close_value > prev_close_value else '🥶'\n",
    "\n",
    "# Last Close Value\n",
    "last_close_value_str = \"{0: <7}\".format(round(last_close_value, 3))\n",
    "\n",
    "# Rise Rate\n",
    "rise_or_down_prefix = '+'if last_close_value > prev_close_value else '-'\n",
    "rise_rate_str = f'({rise_or_down_prefix}{round((last_close_value - prev_close_value)/prev_close_value*100,2)}%)'\n",
    "\n",
    "# RSI Rate\n",
    "fetched_rsi_value = round(rsi.iat[-1], 2)\n",
    "rsi_str = f'[RSI {fetched_rsi_value}] (30~70)'\n",
    "\n",
    "print(f'{icon_prefix}{last_close_value_str}{rise_rate_str} {rsi_str}')\n"
   ]
  },
  {
   "cell_type": "code",
   "execution_count": 8,
   "metadata": {},
   "outputs": [
    {
     "name": "stdout",
     "output_type": "stream",
     "text": [
      "[*********************100%***********************]  1 of 1 completed\n",
      "11\n",
      "23\n"
     ]
    },
    {
     "data": {
      "text/plain": [
       "'qqq  🧨288.82 (+1.0%) [RSI 57.98]'"
      ]
     },
     "execution_count": 8,
     "metadata": {},
     "output_type": "execute_result"
    }
   ],
   "source": [
    "import requests\n",
    "from dateutil import parser\n",
    "import json\n",
    "from datetime import datetime as dt, timedelta\n",
    "import talib\n",
    "import yfinance as yf\n",
    "\n",
    "\n",
    "def __get_stock_price_and_rsi(stock_name: str) -> str:\n",
    "    # Start fetching from 6 months ago to calculate the rsi.\n",
    "    start_date = (dt.today() - timedelta(days=93)).strftime(\"%Y-%m-%d\")\n",
    "    data = yf.download(stock_name, start=start_date)\n",
    "    stock_close_data = data['Close']\n",
    "    rsi = talib.RSI(stock_close_data)\n",
    "\n",
    "    last_date = stock_close_data.index[-1].date()\n",
    "    print(last_date.month)\n",
    "    print(last_date.day)\n",
    "    last_close_value = stock_close_data[-1]\n",
    "    prev_close_value = stock_close_data[-2]\n",
    "\n",
    "    # Formatting Stock Name\n",
    "    stock_name_str = \"{0: <5}\".format(stock_name)\n",
    "\n",
    "    # Icon\n",
    "    icon_prefix = '🧨'if last_close_value > prev_close_value else '🥶'\n",
    "\n",
    "    # Last Close Value\n",
    "    last_close_value_str = \"{0: <7}\".format(round(last_close_value, 3))\n",
    "\n",
    "    # Rise Rate\n",
    "    rise_or_down_prefix = '+'if last_close_value > prev_close_value else ''\n",
    "    rise_rate_str = f'({rise_or_down_prefix}{round((last_close_value - prev_close_value)/prev_close_value*100,2)}%)'\n",
    "\n",
    "    # RSI Rate\n",
    "    fetched_rsi_value = round(rsi.iat[-1], 2)\n",
    "    rsi_str = f'[RSI {fetched_rsi_value}]'\n",
    "\n",
    "    return f'{stock_name_str}{icon_prefix}{last_close_value_str}{rise_rate_str} {rsi_str}'\n",
    "\n",
    "__get_stock_price_and_rsi('qqq')"
   ]
  }
 ],
 "metadata": {
  "kernelspec": {
   "display_name": "Python 3.10.6 ('.venv': venv)",
   "language": "python",
   "name": "python3"
  },
  "language_info": {
   "codemirror_mode": {
    "name": "ipython",
    "version": 3
   },
   "file_extension": ".py",
   "mimetype": "text/x-python",
   "name": "python",
   "nbconvert_exporter": "python",
   "pygments_lexer": "ipython3",
   "version": "3.9.6"
  },
  "orig_nbformat": 4,
  "vscode": {
   "interpreter": {
    "hash": "50b349ff5b90131bf704e9bcedf3a3261ea40b7a00bbec6841bbd391072f5e32"
   }
  }
 },
 "nbformat": 4,
 "nbformat_minor": 2
}
