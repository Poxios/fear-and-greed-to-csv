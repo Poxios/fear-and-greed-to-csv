{
 "cells": [
  {
   "cell_type": "code",
   "execution_count": 1,
   "metadata": {},
   "outputs": [],
   "source": [
    "import talib\n",
    "import yfinance as yf\n",
    "import pandas_datareader as pdr\n",
    "from datetime import datetime"
   ]
  },
  {
   "cell_type": "code",
   "execution_count": 56,
   "metadata": {},
   "outputs": [
    {
     "name": "stdout",
     "output_type": "stream",
     "text": [
      "[*********************100%***********************]  1 of 1 completed\n"
     ]
    }
   ],
   "source": [
    "data = yf.download('QQQ', start='2022-04-11')\n",
    "stock_close_data = data['Close']\n",
    "rsi = talib.RSI(stock_close_data)\n"
   ]
  },
  {
   "cell_type": "code",
   "execution_count": 109,
   "metadata": {},
   "outputs": [
    {
     "name": "stdout",
     "output_type": "stream",
     "text": [
      "🧨287.96 (+1.84%) [RSI 58.98] (30~70)\n"
     ]
    }
   ],
   "source": [
    "last_date = stock_close_data.index[-1].date()\n",
    "last_close_value = stock_close_data[-1]\n",
    "prev_close_value = stock_close_data[-2]\n",
    "\n",
    "# Icon\n",
    "icon_prefix = '🧨'if last_close_value > prev_close_value else '🥶'\n",
    "\n",
    "# Last Close Value\n",
    "last_close_value_str = \"{0: <7}\".format(round(last_close_value, 3))\n",
    "\n",
    "# Rise Rate\n",
    "rise_or_down_prefix = '+'if last_close_value > prev_close_value else '-'\n",
    "rise_rate_str = f'({rise_or_down_prefix}{round((last_close_value - prev_close_value)/prev_close_value*100,2)}%)'\n",
    "\n",
    "# RSI Rate\n",
    "fetched_rsi_value = round(rsi.iat[-1], 2)\n",
    "rsi_str = f'[RSI {fetched_rsi_value}] (30~70)'\n",
    "\n",
    "print(f'{icon_prefix}{last_close_value_str}{rise_rate_str} {rsi_str}')\n"
   ]
  },
  {
   "cell_type": "code",
   "execution_count": 8,
   "metadata": {},
   "outputs": [
    {
     "name": "stdout",
     "output_type": "stream",
     "text": [
      "[*********************100%***********************]  1 of 1 completed\n",
      "11\n",
      "23\n"
     ]
    },
    {
     "data": {
      "text/plain": [
       "'qqq  🧨288.82 (+1.0%) [RSI 57.98]'"
      ]
     },
     "execution_count": 8,
     "metadata": {},
     "output_type": "execute_result"
    }
   ],
   "source": [
    "import requests\n",
    "from dateutil import parser\n",
    "import json\n",
    "from datetime import datetime as dt, timedelta\n",
    "import talib\n",
    "import yfinance as yf\n",
    "\n",
    "\n",
    "def __get_stock_price_and_rsi(stock_name: str) -> str:\n",
    "    # Start fetching from 6 months ago to calculate the rsi.\n",
    "    start_date = (dt.today() - timedelta(days=93)).strftime(\"%Y-%m-%d\")\n",
    "    data = yf.download(stock_name, start=start_date)\n",
    "    stock_close_data = data['Close']\n",
    "    rsi = talib.RSI(stock_close_data)\n",
    "\n",
    "    last_date = stock_close_data.index[-1].date()\n",
    "    print(last_date.month)\n",
    "    print(last_date.day)\n",
    "    last_close_value = stock_close_data[-1]\n",
    "    prev_close_value = stock_close_data[-2]\n",
    "\n",
    "    # Formatting Stock Name\n",
    "    stock_name_str = \"{0: <5}\".format(stock_name)\n",
    "\n",
    "    # Icon\n",
    "    icon_prefix = '🧨'if last_close_value > prev_close_value else '🥶'\n",
    "\n",
    "    # Last Close Value\n",
    "    last_close_value_str = \"{0: <7}\".format(round(last_close_value, 3))\n",
    "\n",
    "    # Rise Rate\n",
    "    rise_or_down_prefix = '+'if last_close_value > prev_close_value else ''\n",
    "    rise_rate_str = f'({rise_or_down_prefix}{round((last_close_value - prev_close_value)/prev_close_value*100,2)}%)'\n",
    "\n",
    "    # RSI Rate\n",
    "    fetched_rsi_value = round(rsi.iat[-1], 2)\n",
    "    rsi_str = f'[RSI {fetched_rsi_value}]'\n",
    "\n",
    "    return f'{stock_name_str}{icon_prefix}{last_close_value_str}{rise_rate_str} {rsi_str}'\n",
    "\n",
    "__get_stock_price_and_rsi('qqq')"
   ]
  }
 ],
 "metadata": {
  "kernelspec": {
   "display_name": "Python 3.10.6 ('.venv': venv)",
   "language": "python",
   "name": "python3"
  },
  "language_info": {
   "codemirror_mode": {
    "name": "ipython",
    "version": 3
   },
   "file_extension": ".py",
   "mimetype": "text/x-python",
   "name": "python",
   "nbconvert_exporter": "python",
   "pygments_lexer": "ipython3",
   "version": "3.10.6"
  },
  "orig_nbformat": 4,
  "vscode": {
   "interpreter": {
    "hash": "50b349ff5b90131bf704e9bcedf3a3261ea40b7a00bbec6841bbd391072f5e32"
   }
  }
 },
 "nbformat": 4,
 "nbformat_minor": 2
}
