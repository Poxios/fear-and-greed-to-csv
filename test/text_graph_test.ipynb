{
 "cells": [
  {
   "cell_type": "code",
   "execution_count": 103,
   "metadata": {},
   "outputs": [
    {
     "data": {
      "text/plain": [
       "'[30 ――――――――⚡―――――― 70]'"
      ]
     },
     "execution_count": 103,
     "metadata": {},
     "output_type": "execute_result"
    }
   ],
   "source": [
    "def generate_text_bar_graph(length: int, min_value: int, score: int, max_value: int):\n",
    "    if score <= min_value:\n",
    "        return f'[{min_value} ⚡{\"―\"*(length-1)} {max_value}]'\n",
    "    elif max_value <= score:\n",
    "        return f'[{min_value} {\"―\"*(length-1)}⚡ {max_value}]'\n",
    "\n",
    "    def roundUp(num: int): return int(num) + \\\n",
    "        1 if (num - int(num)) >= 0.5 else int(num)\n",
    "\n",
    "    percent = (score-min_value) / (max_value-min_value)\n",
    "    bar_count_front = roundUp((length)*percent)-1\n",
    "    bar_count_back = length - bar_count_front-1\n",
    "    graph_text = ('―'*bar_count_front) + '⚡' + ('―'*bar_count_back)\n",
    "    return f'[{min_value} {graph_text} {max_value}]'\n",
    "\n",
    "\n",
    "generate_text_bar_graph(15, 30, 55, 70)\n"
   ]
  },
  {
   "cell_type": "code",
   "execution_count": 8,
   "metadata": {},
   "outputs": [
    {
     "data": {
      "text/plain": [
       "'2022-11-26 15:07:56'"
      ]
     },
     "execution_count": 8,
     "metadata": {},
     "output_type": "execute_result"
    }
   ],
   "source": [
    "import datetime as dt\n",
    "str(dt.datetime.now()).split('.')[0]"
   ]
  }
 ],
 "metadata": {
  "kernelspec": {
   "display_name": "Python 3.10.6 ('.venv': venv)",
   "language": "python",
   "name": "python3"
  },
  "language_info": {
   "codemirror_mode": {
    "name": "ipython",
    "version": 3
   },
   "file_extension": ".py",
   "mimetype": "text/x-python",
   "name": "python",
   "nbconvert_exporter": "python",
   "pygments_lexer": "ipython3",
   "version": "3.10.6"
  },
  "orig_nbformat": 4,
  "vscode": {
   "interpreter": {
    "hash": "50b349ff5b90131bf704e9bcedf3a3261ea40b7a00bbec6841bbd391072f5e32"
   }
  }
 },
 "nbformat": 4,
 "nbformat_minor": 2
}
